{
 "cells": [
  {
   "cell_type": "markdown",
   "metadata": {},
   "source": [
    "# Marvel Comics Pybites Challenge"
   ]
  },
  {
   "cell_type": "markdown",
   "metadata": {},
   "source": [
    "## Goals\n",
    "\n",
    "These are the goals for this challenge:\n",
    "\n",
    "1. Get the most popular characters based on the number of appearances they made in comics over the years.\n",
    "2. Get the year with most and least new Marvel characters introduced respectively, return a (max_year, min_year) tuple. Expect min/max to be pretty far apart.\n",
    "3. What percentage of the comics characters is female? Please give us the percentage rounded to 2 digits.\n",
    "4. Good vs bad characters: return a dictionary of bad vs good vs neutral characters per sex. The keys are Bad Characters, Good Characters, Neutral Characters, the values are integer percentages. Who plays the villain more often, a man or a woman?"
   ]
  },
  {
   "cell_type": "markdown",
   "metadata": {},
   "source": [
    "## Setup\n",
    "\n",
    "Import libraries and print out list of files in the work folder."
   ]
  },
  {
   "cell_type": "code",
   "execution_count": 2,
   "metadata": {},
   "outputs": [
    {
     "name": "stdout",
     "output_type": "stream",
     "text": [
      "Business Finances.ipynb\n",
      "IBNK1117.CSV\n",
      "Marvel Comics Data.ipynb\n",
      "marvel-wikia-data.csv\n",
      "Test.ipynb\n",
      "Untitled.ipynb\n",
      "\n"
     ]
    }
   ],
   "source": [
    "#import libs\n",
    "import pandas as pd\n",
    "import seaborn as sns\n",
    "\n",
    "#Enable inline plots\n",
    "%matplotlib inline\n",
    "\n",
    "#List the files in the work folder\n",
    "from subprocess import check_output\n",
    "print(check_output([\"ls\", \"../work\"]).decode(\"utf8\"))"
   ]
  },
  {
   "cell_type": "markdown",
   "metadata": {},
   "source": [
    "## Get Data\n",
    "\n",
    "Import the data from a csv file into a Pandas dataframe and examine."
   ]
  },
  {
   "cell_type": "code",
   "execution_count": 3,
   "metadata": {},
   "outputs": [
    {
     "name": "stdout",
     "output_type": "stream",
     "text": [
      "<class 'pandas.core.frame.DataFrame'>\n",
      "RangeIndex: 16376 entries, 0 to 16375\n",
      "Data columns (total 13 columns):\n",
      "page_id             16376 non-null int64\n",
      "name                16376 non-null object\n",
      "urlslug             16376 non-null object\n",
      "ID                  12606 non-null object\n",
      "ALIGN               13564 non-null object\n",
      "EYE                 6609 non-null object\n",
      "HAIR                12112 non-null object\n",
      "SEX                 15522 non-null object\n",
      "GSM                 90 non-null object\n",
      "ALIVE               16373 non-null object\n",
      "APPEARANCES         15280 non-null float64\n",
      "FIRST APPEARANCE    15561 non-null object\n",
      "Year                15561 non-null float64\n",
      "dtypes: float64(2), int64(1), object(10)\n",
      "memory usage: 1.6+ MB\n"
     ]
    }
   ],
   "source": [
    "df = pd.read_csv('../work/marvel-wikia-data.csv')\n",
    "df.info()"
   ]
  },
  {
   "cell_type": "code",
   "execution_count": 4,
   "metadata": {},
   "outputs": [
    {
     "data": {
      "text/html": [
       "<div>\n",
       "<table border=\"1\" class=\"dataframe\">\n",
       "  <thead>\n",
       "    <tr style=\"text-align: right;\">\n",
       "      <th></th>\n",
       "      <th>page_id</th>\n",
       "      <th>name</th>\n",
       "      <th>urlslug</th>\n",
       "      <th>ID</th>\n",
       "      <th>ALIGN</th>\n",
       "      <th>EYE</th>\n",
       "      <th>HAIR</th>\n",
       "      <th>SEX</th>\n",
       "      <th>GSM</th>\n",
       "      <th>ALIVE</th>\n",
       "      <th>APPEARANCES</th>\n",
       "      <th>FIRST APPEARANCE</th>\n",
       "      <th>Year</th>\n",
       "    </tr>\n",
       "  </thead>\n",
       "  <tbody>\n",
       "    <tr>\n",
       "      <th>0</th>\n",
       "      <td>1678</td>\n",
       "      <td>Spider-Man (Peter Parker)</td>\n",
       "      <td>\\/Spider-Man_(Peter_Parker)</td>\n",
       "      <td>Secret Identity</td>\n",
       "      <td>Good Characters</td>\n",
       "      <td>Hazel Eyes</td>\n",
       "      <td>Brown Hair</td>\n",
       "      <td>Male Characters</td>\n",
       "      <td>NaN</td>\n",
       "      <td>Living Characters</td>\n",
       "      <td>4043.0</td>\n",
       "      <td>Aug-62</td>\n",
       "      <td>1962.0</td>\n",
       "    </tr>\n",
       "    <tr>\n",
       "      <th>1</th>\n",
       "      <td>7139</td>\n",
       "      <td>Captain America (Steven Rogers)</td>\n",
       "      <td>\\/Captain_America_(Steven_Rogers)</td>\n",
       "      <td>Public Identity</td>\n",
       "      <td>Good Characters</td>\n",
       "      <td>Blue Eyes</td>\n",
       "      <td>White Hair</td>\n",
       "      <td>Male Characters</td>\n",
       "      <td>NaN</td>\n",
       "      <td>Living Characters</td>\n",
       "      <td>3360.0</td>\n",
       "      <td>Mar-41</td>\n",
       "      <td>1941.0</td>\n",
       "    </tr>\n",
       "    <tr>\n",
       "      <th>2</th>\n",
       "      <td>64786</td>\n",
       "      <td>Wolverine (James \\\"Logan\\\" Howlett)</td>\n",
       "      <td>\\/Wolverine_(James_%22Logan%22_Howlett)</td>\n",
       "      <td>Public Identity</td>\n",
       "      <td>Neutral Characters</td>\n",
       "      <td>Blue Eyes</td>\n",
       "      <td>Black Hair</td>\n",
       "      <td>Male Characters</td>\n",
       "      <td>NaN</td>\n",
       "      <td>Living Characters</td>\n",
       "      <td>3061.0</td>\n",
       "      <td>Oct-74</td>\n",
       "      <td>1974.0</td>\n",
       "    </tr>\n",
       "    <tr>\n",
       "      <th>3</th>\n",
       "      <td>1868</td>\n",
       "      <td>Iron Man (Anthony \\\"Tony\\\" Stark)</td>\n",
       "      <td>\\/Iron_Man_(Anthony_%22Tony%22_Stark)</td>\n",
       "      <td>Public Identity</td>\n",
       "      <td>Good Characters</td>\n",
       "      <td>Blue Eyes</td>\n",
       "      <td>Black Hair</td>\n",
       "      <td>Male Characters</td>\n",
       "      <td>NaN</td>\n",
       "      <td>Living Characters</td>\n",
       "      <td>2961.0</td>\n",
       "      <td>Mar-63</td>\n",
       "      <td>1963.0</td>\n",
       "    </tr>\n",
       "    <tr>\n",
       "      <th>4</th>\n",
       "      <td>2460</td>\n",
       "      <td>Thor (Thor Odinson)</td>\n",
       "      <td>\\/Thor_(Thor_Odinson)</td>\n",
       "      <td>No Dual Identity</td>\n",
       "      <td>Good Characters</td>\n",
       "      <td>Blue Eyes</td>\n",
       "      <td>Blond Hair</td>\n",
       "      <td>Male Characters</td>\n",
       "      <td>NaN</td>\n",
       "      <td>Living Characters</td>\n",
       "      <td>2258.0</td>\n",
       "      <td>Nov-50</td>\n",
       "      <td>1950.0</td>\n",
       "    </tr>\n",
       "  </tbody>\n",
       "</table>\n",
       "</div>"
      ],
      "text/plain": [
       "   page_id                                 name  \\\n",
       "0     1678            Spider-Man (Peter Parker)   \n",
       "1     7139      Captain America (Steven Rogers)   \n",
       "2    64786  Wolverine (James \\\"Logan\\\" Howlett)   \n",
       "3     1868    Iron Man (Anthony \\\"Tony\\\" Stark)   \n",
       "4     2460                  Thor (Thor Odinson)   \n",
       "\n",
       "                                   urlslug                ID  \\\n",
       "0              \\/Spider-Man_(Peter_Parker)   Secret Identity   \n",
       "1        \\/Captain_America_(Steven_Rogers)   Public Identity   \n",
       "2  \\/Wolverine_(James_%22Logan%22_Howlett)   Public Identity   \n",
       "3    \\/Iron_Man_(Anthony_%22Tony%22_Stark)   Public Identity   \n",
       "4                    \\/Thor_(Thor_Odinson)  No Dual Identity   \n",
       "\n",
       "                ALIGN         EYE        HAIR              SEX  GSM  \\\n",
       "0     Good Characters  Hazel Eyes  Brown Hair  Male Characters  NaN   \n",
       "1     Good Characters   Blue Eyes  White Hair  Male Characters  NaN   \n",
       "2  Neutral Characters   Blue Eyes  Black Hair  Male Characters  NaN   \n",
       "3     Good Characters   Blue Eyes  Black Hair  Male Characters  NaN   \n",
       "4     Good Characters   Blue Eyes  Blond Hair  Male Characters  NaN   \n",
       "\n",
       "               ALIVE  APPEARANCES FIRST APPEARANCE    Year  \n",
       "0  Living Characters       4043.0           Aug-62  1962.0  \n",
       "1  Living Characters       3360.0           Mar-41  1941.0  \n",
       "2  Living Characters       3061.0           Oct-74  1974.0  \n",
       "3  Living Characters       2961.0           Mar-63  1963.0  \n",
       "4  Living Characters       2258.0           Nov-50  1950.0  "
      ]
     },
     "execution_count": 4,
     "metadata": {},
     "output_type": "execute_result"
    }
   ],
   "source": [
    "#Show first few rows of the dataframe\n",
    "df.head()"
   ]
  },
  {
   "cell_type": "code",
   "execution_count": 5,
   "metadata": {},
   "outputs": [
    {
     "data": {
      "text/html": [
       "<div>\n",
       "<table border=\"1\" class=\"dataframe\">\n",
       "  <thead>\n",
       "    <tr style=\"text-align: right;\">\n",
       "      <th></th>\n",
       "      <th>page_id</th>\n",
       "      <th>APPEARANCES</th>\n",
       "      <th>Year</th>\n",
       "    </tr>\n",
       "  </thead>\n",
       "  <tbody>\n",
       "    <tr>\n",
       "      <th>count</th>\n",
       "      <td>16376.000000</td>\n",
       "      <td>15280.000000</td>\n",
       "      <td>15561.000000</td>\n",
       "    </tr>\n",
       "    <tr>\n",
       "      <th>mean</th>\n",
       "      <td>300232.082377</td>\n",
       "      <td>17.033377</td>\n",
       "      <td>1984.951803</td>\n",
       "    </tr>\n",
       "    <tr>\n",
       "      <th>std</th>\n",
       "      <td>253460.403399</td>\n",
       "      <td>96.372959</td>\n",
       "      <td>19.663571</td>\n",
       "    </tr>\n",
       "    <tr>\n",
       "      <th>min</th>\n",
       "      <td>1025.000000</td>\n",
       "      <td>1.000000</td>\n",
       "      <td>1939.000000</td>\n",
       "    </tr>\n",
       "    <tr>\n",
       "      <th>25%</th>\n",
       "      <td>28309.500000</td>\n",
       "      <td>1.000000</td>\n",
       "      <td>1974.000000</td>\n",
       "    </tr>\n",
       "    <tr>\n",
       "      <th>50%</th>\n",
       "      <td>282578.000000</td>\n",
       "      <td>3.000000</td>\n",
       "      <td>1990.000000</td>\n",
       "    </tr>\n",
       "    <tr>\n",
       "      <th>75%</th>\n",
       "      <td>509077.000000</td>\n",
       "      <td>8.000000</td>\n",
       "      <td>2000.000000</td>\n",
       "    </tr>\n",
       "    <tr>\n",
       "      <th>max</th>\n",
       "      <td>755278.000000</td>\n",
       "      <td>4043.000000</td>\n",
       "      <td>2013.000000</td>\n",
       "    </tr>\n",
       "  </tbody>\n",
       "</table>\n",
       "</div>"
      ],
      "text/plain": [
       "             page_id   APPEARANCES          Year\n",
       "count   16376.000000  15280.000000  15561.000000\n",
       "mean   300232.082377     17.033377   1984.951803\n",
       "std    253460.403399     96.372959     19.663571\n",
       "min      1025.000000      1.000000   1939.000000\n",
       "25%     28309.500000      1.000000   1974.000000\n",
       "50%    282578.000000      3.000000   1990.000000\n",
       "75%    509077.000000      8.000000   2000.000000\n",
       "max    755278.000000   4043.000000   2013.000000"
      ]
     },
     "execution_count": 5,
     "metadata": {},
     "output_type": "execute_result"
    }
   ],
   "source": [
    "#Describe the numeric values in the dataframe\n",
    "df.describe()"
   ]
  },
  {
   "cell_type": "markdown",
   "metadata": {},
   "source": [
    "## Cleanse\n",
    "\n",
    "Fix up the data a bit to make it more manageable. I will perform the following tasks to clean the data:\n",
    "\n",
    "* Drop unused columns\n",
    "* Make all the column names consistant\n",
    "* Clean the values in align, sex and alive. Remove the word Characters from the values.\n",
    "* Fill in the empty values"
   ]
  },
  {
   "cell_type": "code",
   "execution_count": 6,
   "metadata": {},
   "outputs": [
    {
     "data": {
      "text/html": [
       "<div>\n",
       "<table border=\"1\" class=\"dataframe\">\n",
       "  <thead>\n",
       "    <tr style=\"text-align: right;\">\n",
       "      <th></th>\n",
       "      <th>name</th>\n",
       "      <th>align</th>\n",
       "      <th>sex</th>\n",
       "      <th>alive</th>\n",
       "      <th>appearances</th>\n",
       "      <th>first appearance</th>\n",
       "      <th>year</th>\n",
       "    </tr>\n",
       "  </thead>\n",
       "  <tbody>\n",
       "    <tr>\n",
       "      <th>0</th>\n",
       "      <td>Spider-Man (Peter Parker)</td>\n",
       "      <td>Good Characters</td>\n",
       "      <td>Male Characters</td>\n",
       "      <td>Living Characters</td>\n",
       "      <td>4043.0</td>\n",
       "      <td>Aug-62</td>\n",
       "      <td>1962.0</td>\n",
       "    </tr>\n",
       "    <tr>\n",
       "      <th>1</th>\n",
       "      <td>Captain America (Steven Rogers)</td>\n",
       "      <td>Good Characters</td>\n",
       "      <td>Male Characters</td>\n",
       "      <td>Living Characters</td>\n",
       "      <td>3360.0</td>\n",
       "      <td>Mar-41</td>\n",
       "      <td>1941.0</td>\n",
       "    </tr>\n",
       "    <tr>\n",
       "      <th>2</th>\n",
       "      <td>Wolverine (James \\\"Logan\\\" Howlett)</td>\n",
       "      <td>Neutral Characters</td>\n",
       "      <td>Male Characters</td>\n",
       "      <td>Living Characters</td>\n",
       "      <td>3061.0</td>\n",
       "      <td>Oct-74</td>\n",
       "      <td>1974.0</td>\n",
       "    </tr>\n",
       "    <tr>\n",
       "      <th>3</th>\n",
       "      <td>Iron Man (Anthony \\\"Tony\\\" Stark)</td>\n",
       "      <td>Good Characters</td>\n",
       "      <td>Male Characters</td>\n",
       "      <td>Living Characters</td>\n",
       "      <td>2961.0</td>\n",
       "      <td>Mar-63</td>\n",
       "      <td>1963.0</td>\n",
       "    </tr>\n",
       "    <tr>\n",
       "      <th>4</th>\n",
       "      <td>Thor (Thor Odinson)</td>\n",
       "      <td>Good Characters</td>\n",
       "      <td>Male Characters</td>\n",
       "      <td>Living Characters</td>\n",
       "      <td>2258.0</td>\n",
       "      <td>Nov-50</td>\n",
       "      <td>1950.0</td>\n",
       "    </tr>\n",
       "  </tbody>\n",
       "</table>\n",
       "</div>"
      ],
      "text/plain": [
       "                                  name               align              sex  \\\n",
       "0            Spider-Man (Peter Parker)     Good Characters  Male Characters   \n",
       "1      Captain America (Steven Rogers)     Good Characters  Male Characters   \n",
       "2  Wolverine (James \\\"Logan\\\" Howlett)  Neutral Characters  Male Characters   \n",
       "3    Iron Man (Anthony \\\"Tony\\\" Stark)     Good Characters  Male Characters   \n",
       "4                  Thor (Thor Odinson)     Good Characters  Male Characters   \n",
       "\n",
       "               alive  appearances first appearance    year  \n",
       "0  Living Characters       4043.0           Aug-62  1962.0  \n",
       "1  Living Characters       3360.0           Mar-41  1941.0  \n",
       "2  Living Characters       3061.0           Oct-74  1974.0  \n",
       "3  Living Characters       2961.0           Mar-63  1963.0  \n",
       "4  Living Characters       2258.0           Nov-50  1950.0  "
      ]
     },
     "execution_count": 6,
     "metadata": {},
     "output_type": "execute_result"
    }
   ],
   "source": [
    "#The following columns can be dropped as they don't contribute towards the goals of the challenge\n",
    "df = df.drop(['GSM','urlslug', 'page_id', 'EYE', 'HAIR', 'ID'], axis=1)\n",
    "#Make all the columns lower case\n",
    "df.columns = map(str.lower, df.columns)\n",
    "df.head()"
   ]
  },
  {
   "cell_type": "code",
   "execution_count": 7,
   "metadata": {},
   "outputs": [
    {
     "data": {
      "text/plain": [
       "array(['Living Characters', 'Deceased Characters', nan], dtype=object)"
      ]
     },
     "execution_count": 7,
     "metadata": {},
     "output_type": "execute_result"
    }
   ],
   "source": [
    "#Check what the unique values for alive are\n",
    "df.alive.unique()"
   ]
  },
  {
   "cell_type": "code",
   "execution_count": 8,
   "metadata": {},
   "outputs": [
    {
     "data": {
      "text/html": [
       "<div>\n",
       "<table border=\"1\" class=\"dataframe\">\n",
       "  <thead>\n",
       "    <tr style=\"text-align: right;\">\n",
       "      <th></th>\n",
       "      <th>name</th>\n",
       "      <th>align</th>\n",
       "      <th>sex</th>\n",
       "      <th>alive</th>\n",
       "      <th>appearances</th>\n",
       "      <th>first appearance</th>\n",
       "      <th>year</th>\n",
       "    </tr>\n",
       "  </thead>\n",
       "  <tbody>\n",
       "    <tr>\n",
       "      <th>0</th>\n",
       "      <td>Spider-Man (Peter Parker)</td>\n",
       "      <td>Good</td>\n",
       "      <td>Male</td>\n",
       "      <td>Living</td>\n",
       "      <td>4043.0</td>\n",
       "      <td>Aug-62</td>\n",
       "      <td>1962.0</td>\n",
       "    </tr>\n",
       "    <tr>\n",
       "      <th>1</th>\n",
       "      <td>Captain America (Steven Rogers)</td>\n",
       "      <td>Good</td>\n",
       "      <td>Male</td>\n",
       "      <td>Living</td>\n",
       "      <td>3360.0</td>\n",
       "      <td>Mar-41</td>\n",
       "      <td>1941.0</td>\n",
       "    </tr>\n",
       "    <tr>\n",
       "      <th>2</th>\n",
       "      <td>Wolverine (James \\\"Logan\\\" Howlett)</td>\n",
       "      <td>Neutral</td>\n",
       "      <td>Male</td>\n",
       "      <td>Living</td>\n",
       "      <td>3061.0</td>\n",
       "      <td>Oct-74</td>\n",
       "      <td>1974.0</td>\n",
       "    </tr>\n",
       "    <tr>\n",
       "      <th>3</th>\n",
       "      <td>Iron Man (Anthony \\\"Tony\\\" Stark)</td>\n",
       "      <td>Good</td>\n",
       "      <td>Male</td>\n",
       "      <td>Living</td>\n",
       "      <td>2961.0</td>\n",
       "      <td>Mar-63</td>\n",
       "      <td>1963.0</td>\n",
       "    </tr>\n",
       "    <tr>\n",
       "      <th>4</th>\n",
       "      <td>Thor (Thor Odinson)</td>\n",
       "      <td>Good</td>\n",
       "      <td>Male</td>\n",
       "      <td>Living</td>\n",
       "      <td>2258.0</td>\n",
       "      <td>Nov-50</td>\n",
       "      <td>1950.0</td>\n",
       "    </tr>\n",
       "  </tbody>\n",
       "</table>\n",
       "</div>"
      ],
      "text/plain": [
       "                                  name    align   sex   alive  appearances  \\\n",
       "0            Spider-Man (Peter Parker)     Good  Male  Living       4043.0   \n",
       "1      Captain America (Steven Rogers)     Good  Male  Living       3360.0   \n",
       "2  Wolverine (James \\\"Logan\\\" Howlett)  Neutral  Male  Living       3061.0   \n",
       "3    Iron Man (Anthony \\\"Tony\\\" Stark)     Good  Male  Living       2961.0   \n",
       "4                  Thor (Thor Odinson)     Good  Male  Living       2258.0   \n",
       "\n",
       "  first appearance    year  \n",
       "0           Aug-62  1962.0  \n",
       "1           Mar-41  1941.0  \n",
       "2           Oct-74  1974.0  \n",
       "3           Mar-63  1963.0  \n",
       "4           Nov-50  1950.0  "
      ]
     },
     "execution_count": 8,
     "metadata": {},
     "output_type": "execute_result"
    }
   ],
   "source": [
    "#Remove the word characters from alive, sex and align\n",
    "df['alive'] = df['alive'].str.replace(' Characters', '')\n",
    "df['sex'] = df['sex'].str.replace(' Characters', '')\n",
    "df['align'] = df['align'].str.replace(' Characters', '')\n",
    "df.head()"
   ]
  },
  {
   "cell_type": "code",
   "execution_count": 9,
   "metadata": {},
   "outputs": [
    {
     "name": "stdout",
     "output_type": "stream",
     "text": [
      "<class 'pandas.core.frame.DataFrame'>\n",
      "RangeIndex: 16376 entries, 0 to 16375\n",
      "Data columns (total 7 columns):\n",
      "name                16376 non-null object\n",
      "align               13564 non-null object\n",
      "sex                 15522 non-null object\n",
      "alive               16373 non-null object\n",
      "appearances         15280 non-null float64\n",
      "first appearance    15561 non-null object\n",
      "year                15561 non-null float64\n",
      "dtypes: float64(2), object(5)\n",
      "memory usage: 895.6+ KB\n"
     ]
    }
   ],
   "source": [
    "#Check wich columns have empty values\n",
    "df.info()"
   ]
  },
  {
   "cell_type": "code",
   "execution_count": 10,
   "metadata": {},
   "outputs": [
    {
     "name": "stdout",
     "output_type": "stream",
     "text": [
      "<class 'pandas.core.frame.DataFrame'>\n",
      "RangeIndex: 16376 entries, 0 to 16375\n",
      "Data columns (total 7 columns):\n",
      "name                16376 non-null object\n",
      "align               13564 non-null object\n",
      "sex                 16376 non-null object\n",
      "alive               16373 non-null object\n",
      "appearances         16376 non-null float64\n",
      "first appearance    15561 non-null object\n",
      "year                15561 non-null float64\n",
      "dtypes: float64(2), object(5)\n",
      "memory usage: 895.6+ KB\n"
     ]
    }
   ],
   "source": [
    "#Fill empty values for appearances, align and sex\n",
    "df.appearances = df.appearances.fillna(1)\n",
    "df.align = df['align'].fillna('Unknown')\n",
    "df.sex = df.sex.fillna('Unknown')\n",
    "df.info()"
   ]
  },
  {
   "cell_type": "markdown",
   "metadata": {},
   "source": [
    "## Solve Challenges\n",
    "### 1. Characters with most appearances"
   ]
  },
  {
   "cell_type": "code",
   "execution_count": 11,
   "metadata": {},
   "outputs": [
    {
     "data": {
      "text/plain": [
       "<matplotlib.axes._subplots.AxesSubplot at 0x7fd5139005c0>"
      ]
     },
     "execution_count": 11,
     "metadata": {},
     "output_type": "execute_result"
    },
    {
     "data": {
      "image/png": "[encoded data removed]",
      "text/plain": [
       "<matplotlib.figure.Figure at 0x7fd513bd65c0>"
      ]
     },
     "metadata": {},
     "output_type": "display_data"
    }
   ],
   "source": [
    "#Sort appearances in descending order\n",
    "newdf = df.sort_values(by=['appearances'], ascending=False).head(10)\n",
    "#Plot a graph of top 10 characters with most appearances\n",
    "newdf.plot(kind='bar', x='name', y='appearances')"
   ]
  },
  {
   "cell_type": "markdown",
   "metadata": {},
   "source": [
    "### 2. Years with most and least new characters"
   ]
  },
  {
   "cell_type": "code",
   "execution_count": 12,
   "metadata": {},
   "outputs": [
    {
     "data": {
      "text/plain": [
       "(1993, 1958)"
      ]
     },
     "execution_count": 12,
     "metadata": {},
     "output_type": "execute_result"
    }
   ],
   "source": [
    "#Get the year with most and least new Marvel characters introduced respectively, return a (max_year, min_year) tuple. Expect min/max to be pretty far apart.\n",
    "new = df.groupby(df['year'])['name'].count().reset_index()\n",
    "minNewChars = new.sort_values(by=['name']).head(1)['year'].iloc[0]\n",
    "maxNewChars = new.sort_values(by=['name']).tail(1)['year'].iloc[0]\n",
    "newChars = (int(maxNewChars), int(minNewChars))\n",
    "newChars"
   ]
  },
  {
   "cell_type": "code",
   "execution_count": 13,
   "metadata": {},
   "outputs": [
    {
     "data": {
      "text/plain": [
       "<matplotlib.axes._subplots.AxesSubplot at 0x7fd513871710>"
      ]
     },
     "execution_count": 13,
     "metadata": {},
     "output_type": "execute_result"
    },
    {
     "data": {
      "image/png": "[encoded data removed]",
      "text/plain": [
       "<matplotlib.figure.Figure at 0x7fd513900518>"
      ]
     },
     "metadata": {},
     "output_type": "display_data"
    }
   ],
   "source": [
    "#Plot bar graph of character introductions per year\n",
    "sns.barplot(x='year', y='name', data=new)"
   ]
  },
  {
   "cell_type": "markdown",
   "metadata": {},
   "source": [
    "### 3. Percentage of female characters"
   ]
  },
  {
   "cell_type": "code",
   "execution_count": 14,
   "metadata": {},
   "outputs": [
    {
     "name": "stdout",
     "output_type": "stream",
     "text": [
      "Percentage of female characters 23.43 %\n"
     ]
    }
   ],
   "source": [
    "#What percentage of the comics characters is female? Please give us the percentage rounded to 2 digits.\n",
    "sex = df.groupby(by=df['sex'])['name'].count().reset_index(name='count')\n",
    "sex['percent'] = sex['count'] / sex['count'].sum() * 100\n",
    "sex['percent'] = sex['percent'].round(2)\n",
    "sex = sex.set_index('sex')\n",
    "percentagefemale = sex.at['Female', 'percent']\n",
    "print('Percentage of female characters', percentagefemale, '%')"
   ]
  },
  {
   "cell_type": "markdown",
   "metadata": {},
   "source": [
    "### 4. Good vs Bad Characters"
   ]
  },
  {
   "cell_type": "code",
   "execution_count": 40,
   "metadata": {},
   "outputs": [
    {
     "data": {
      "text/html": [
       "<div>\n",
       "<table border=\"1\" class=\"dataframe\">\n",
       "  <thead>\n",
       "    <tr style=\"text-align: right;\">\n",
       "      <th></th>\n",
       "      <th>align</th>\n",
       "      <th>sex</th>\n",
       "      <th>count</th>\n",
       "      <th>percent</th>\n",
       "      <th>alignsex</th>\n",
       "    </tr>\n",
       "    <tr>\n",
       "      <th>index</th>\n",
       "      <th></th>\n",
       "      <th></th>\n",
       "      <th></th>\n",
       "      <th></th>\n",
       "      <th></th>\n",
       "    </tr>\n",
       "  </thead>\n",
       "  <tbody>\n",
       "    <tr>\n",
       "      <th>BadAgender</th>\n",
       "      <td>Bad</td>\n",
       "      <td>Agender</td>\n",
       "      <td>20</td>\n",
       "      <td>0.15</td>\n",
       "      <td>BadAgender</td>\n",
       "    </tr>\n",
       "    <tr>\n",
       "      <th>BadFemale</th>\n",
       "      <td>Bad</td>\n",
       "      <td>Female</td>\n",
       "      <td>976</td>\n",
       "      <td>7.20</td>\n",
       "      <td>BadFemale</td>\n",
       "    </tr>\n",
       "    <tr>\n",
       "      <th>BadMale</th>\n",
       "      <td>Bad</td>\n",
       "      <td>Male</td>\n",
       "      <td>5338</td>\n",
       "      <td>39.35</td>\n",
       "      <td>BadMale</td>\n",
       "    </tr>\n",
       "    <tr>\n",
       "      <th>BadUnknown</th>\n",
       "      <td>Bad</td>\n",
       "      <td>Unknown</td>\n",
       "      <td>386</td>\n",
       "      <td>2.85</td>\n",
       "      <td>BadUnknown</td>\n",
       "    </tr>\n",
       "    <tr>\n",
       "      <th>GoodAgender</th>\n",
       "      <td>Good</td>\n",
       "      <td>Agender</td>\n",
       "      <td>10</td>\n",
       "      <td>0.07</td>\n",
       "      <td>GoodAgender</td>\n",
       "    </tr>\n",
       "    <tr>\n",
       "      <th>GoodFemale</th>\n",
       "      <td>Good</td>\n",
       "      <td>Female</td>\n",
       "      <td>1537</td>\n",
       "      <td>11.33</td>\n",
       "      <td>GoodFemale</td>\n",
       "    </tr>\n",
       "    <tr>\n",
       "      <th>GoodGenderfluid</th>\n",
       "      <td>Good</td>\n",
       "      <td>Genderfluid</td>\n",
       "      <td>1</td>\n",
       "      <td>0.01</td>\n",
       "      <td>GoodGenderfluid</td>\n",
       "    </tr>\n",
       "    <tr>\n",
       "      <th>GoodMale</th>\n",
       "      <td>Good</td>\n",
       "      <td>Male</td>\n",
       "      <td>2966</td>\n",
       "      <td>21.87</td>\n",
       "      <td>GoodMale</td>\n",
       "    </tr>\n",
       "    <tr>\n",
       "      <th>GoodUnknown</th>\n",
       "      <td>Good</td>\n",
       "      <td>Unknown</td>\n",
       "      <td>122</td>\n",
       "      <td>0.90</td>\n",
       "      <td>GoodUnknown</td>\n",
       "    </tr>\n",
       "    <tr>\n",
       "      <th>NeutralAgender</th>\n",
       "      <td>Neutral</td>\n",
       "      <td>Agender</td>\n",
       "      <td>13</td>\n",
       "      <td>0.10</td>\n",
       "      <td>NeutralAgender</td>\n",
       "    </tr>\n",
       "    <tr>\n",
       "      <th>NeutralFemale</th>\n",
       "      <td>Neutral</td>\n",
       "      <td>Female</td>\n",
       "      <td>640</td>\n",
       "      <td>4.72</td>\n",
       "      <td>NeutralFemale</td>\n",
       "    </tr>\n",
       "    <tr>\n",
       "      <th>NeutralGenderfluid</th>\n",
       "      <td>Neutral</td>\n",
       "      <td>Genderfluid</td>\n",
       "      <td>1</td>\n",
       "      <td>0.01</td>\n",
       "      <td>NeutralGenderfluid</td>\n",
       "    </tr>\n",
       "    <tr>\n",
       "      <th>NeutralMale</th>\n",
       "      <td>Neutral</td>\n",
       "      <td>Male</td>\n",
       "      <td>1440</td>\n",
       "      <td>10.62</td>\n",
       "      <td>NeutralMale</td>\n",
       "    </tr>\n",
       "    <tr>\n",
       "      <th>NeutralUnknown</th>\n",
       "      <td>Neutral</td>\n",
       "      <td>Unknown</td>\n",
       "      <td>114</td>\n",
       "      <td>0.84</td>\n",
       "      <td>NeutralUnknown</td>\n",
       "    </tr>\n",
       "  </tbody>\n",
       "</table>\n",
       "</div>"
      ],
      "text/plain": [
       "                      align          sex  count  percent            alignsex\n",
       "index                                                                       \n",
       "BadAgender              Bad      Agender     20     0.15          BadAgender\n",
       "BadFemale               Bad       Female    976     7.20           BadFemale\n",
       "BadMale                 Bad         Male   5338    39.35             BadMale\n",
       "BadUnknown              Bad      Unknown    386     2.85          BadUnknown\n",
       "GoodAgender            Good      Agender     10     0.07         GoodAgender\n",
       "GoodFemale             Good       Female   1537    11.33          GoodFemale\n",
       "GoodGenderfluid        Good  Genderfluid      1     0.01     GoodGenderfluid\n",
       "GoodMale               Good         Male   2966    21.87            GoodMale\n",
       "GoodUnknown            Good      Unknown    122     0.90         GoodUnknown\n",
       "NeutralAgender      Neutral      Agender     13     0.10      NeutralAgender\n",
       "NeutralFemale       Neutral       Female    640     4.72       NeutralFemale\n",
       "NeutralGenderfluid  Neutral  Genderfluid      1     0.01  NeutralGenderfluid\n",
       "NeutralMale         Neutral         Male   1440    10.62         NeutralMale\n",
       "NeutralUnknown      Neutral      Unknown    114     0.84      NeutralUnknown"
      ]
     },
     "execution_count": 40,
     "metadata": {},
     "output_type": "execute_result"
    }
   ],
   "source": [
    "#Group by alignment and sex and do a count for each group\n",
    "goodvbad = df.groupby(by=['align', 'sex'])['name'].count().reset_index(name='count')\n",
    "#Create a percentage column\n",
    "goodvbad['percent'] = goodvbad['count'] / goodvbad['count'].sum() * 100\n",
    "goodvbad['percent'] = goodvbad['percent'].round(2)\n",
    "#Add an index so that I can select rows for specific groupings\n",
    "goodvbad['index'] = goodvbad['align'].map(str) + goodvbad['sex']\n",
    "goodvbad = goodvbad.set_index('index')\n",
    "goodvbad['alignsex'] = goodvbad.index\n",
    "goodvbad"
   ]
  },
  {
   "cell_type": "code",
   "execution_count": 42,
   "metadata": {},
   "outputs": [
    {
     "data": {
      "text/plain": [
       "<matplotlib.axes._subplots.AxesSubplot at 0x7fd5106d1898>"
      ]
     },
     "execution_count": 42,
     "metadata": {},
     "output_type": "execute_result"
    },
    {
     "data": {
      "image/png": "[encoded data removed]",
      "text/plain": [
       "<matplotlib.figure.Figure at 0x7fd510716518>"
      ]
     },
     "metadata": {},
     "output_type": "display_data"
    }
   ],
   "source": [
    "#Create a chart of the distribution of alignment and sex\n",
    "sns.barplot(x='percent', y='alignsex', data=goodvbad)"
   ]
  },
  {
   "cell_type": "code",
   "execution_count": 43,
   "metadata": {},
   "outputs": [
    {
     "name": "stdout",
     "output_type": "stream",
     "text": [
      "Percentage of Bad Males:  39\n"
     ]
    }
   ],
   "source": [
    "#Show the percentage of bad males\n",
    "percentagebadmales = goodvbad.at['BadMale', 'percent']\n",
    "print('Percentage of Bad Males: ', int(percentagebadmales))"
   ]
  },
  {
   "cell_type": "code",
   "execution_count": 44,
   "metadata": {},
   "outputs": [
    {
     "name": "stdout",
     "output_type": "stream",
     "text": [
      "Percentage of Bad Females:  7\n"
     ]
    }
   ],
   "source": [
    "#Show the percentage of bad females\n",
    "percentagebadfemales = goodvbad.at['BadFemale', 'percent']\n",
    "print('Percentage of Bad Females: ', int(percentagebadfemales))"
   ]
  },
  {
   "cell_type": "markdown",
   "metadata": {},
   "source": [
    "It would seem that the villain is more often a male than female. From the chart above we can also see that there are more bad male characters than any other kind."
   ]
  }
 ],
 "metadata": {
  "kernelspec": {
   "display_name": "Python 3",
   "language": "python",
   "name": "python3"
  }
 },
 "nbformat": 4,
 "nbformat_minor": 2
}
