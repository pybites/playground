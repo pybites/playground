{
 "cells": [
  {
   "cell_type": "markdown",
   "metadata": {},
   "source": [
    "# Business Finance Analysis"
   ]
  },
  {
   "cell_type": "markdown",
   "metadata": {},
   "source": [
    "I want to performe some analysis on the accounts for my business."
   ]
  },
  {
   "cell_type": "code",
   "execution_count": 1,
   "metadata": {},
   "outputs": [
    {
     "name": "stdout",
     "output_type": "stream",
     "text": [
      "Business Finances.ipynb\n",
      "IBNK1117.CSV\n",
      "Test.ipynb\n",
      "Untitled.ipynb\n",
      "\n"
     ]
    }
   ],
   "source": [
    "#import libs\n",
    "import pandas as pd\n",
    "\n",
    "#Enable inline plots\n",
    "%matplotlib inline\n",
    "\n",
    "#List the files in the work folder\n",
    "from subprocess import check_output\n",
    "print(check_output([\"ls\", \"../work\"]).decode(\"utf8\"))"
   ]
  },
  {
   "cell_type": "code",
   "execution_count": 2,
   "metadata": {},
   "outputs": [],
   "source": [
    "#Read in the banking file.\n",
    "#The file is in csv format, but has no headers\n",
    "\n",
    "df = pd.read_csv('../work/IBNK1117.CSV', header=None, names=['tranDate', 'description', 'ref', 'amnt', 'bal'])"
   ]
  },
  {
   "cell_type": "code",
   "execution_count": 3,
   "metadata": {},
   "outputs": [],
   "source": [
    "#Change the negative amounts to positive\n",
    "df['amnt'] = df['amnt'].abs()\n",
    "\n",
    "#Convert transaction date to a date type\n",
    "df['tranDate'] = pd.to_datetime(df['tranDate'], format='%d%b%Y')"
   ]
  },
  {
   "cell_type": "code",
   "execution_count": 4,
   "metadata": {},
   "outputs": [
    {
     "name": "stdout",
     "output_type": "stream",
     "text": [
      "<class 'pandas.core.frame.DataFrame'>\n",
      "RangeIndex: 167 entries, 0 to 166\n",
      "Data columns (total 5 columns):\n",
      "tranDate       167 non-null datetime64[ns]\n",
      "description    167 non-null object\n",
      "ref            58 non-null object\n",
      "amnt           167 non-null float64\n",
      "bal            167 non-null float64\n",
      "dtypes: datetime64[ns](1), float64(2), object(2)\n",
      "memory usage: 6.6+ KB\n"
     ]
    }
   ],
   "source": [
    "#Get info on the data\n",
    "df.info()"
   ]
  },
  {
   "cell_type": "code",
   "execution_count": 5,
   "metadata": {},
   "outputs": [
    {
     "data": {
      "text/html": [
       "<div>\n",
       "<table border=\"1\" class=\"dataframe\">\n",
       "  <thead>\n",
       "    <tr style=\"text-align: right;\">\n",
       "      <th></th>\n",
       "      <th>tranDate</th>\n",
       "      <th>description</th>\n",
       "      <th>ref</th>\n",
       "      <th>amnt</th>\n",
       "      <th>bal</th>\n",
       "    </tr>\n",
       "  </thead>\n",
       "  <tbody>\n",
       "    <tr>\n",
       "      <th>0</th>\n",
       "      <td>2017-11-28</td>\n",
       "      <td>S/O to Hailey Smith</td>\n",
       "      <td>NaN</td>\n",
       "      <td>800.00</td>\n",
       "      <td>13917.16</td>\n",
       "    </tr>\n",
       "    <tr>\n",
       "      <th>1</th>\n",
       "      <td>2017-11-28</td>\n",
       "      <td>S/O to Martin Smith</td>\n",
       "      <td>NaN</td>\n",
       "      <td>812.00</td>\n",
       "      <td>14717.16</td>\n",
       "    </tr>\n",
       "    <tr>\n",
       "      <th>2</th>\n",
       "      <td>2017-11-27</td>\n",
       "      <td>R/P to Martin Smith</td>\n",
       "      <td>NaN</td>\n",
       "      <td>785.50</td>\n",
       "      <td>15529.16</td>\n",
       "    </tr>\n",
       "    <tr>\n",
       "      <th>3</th>\n",
       "      <td>2017-11-24</td>\n",
       "      <td>Giro: Just Retirement Mws Consulting Ltd</td>\n",
       "      <td>NaN</td>\n",
       "      <td>14169.41</td>\n",
       "      <td>16314.66</td>\n",
       "    </tr>\n",
       "    <tr>\n",
       "      <th>4</th>\n",
       "      <td>2017-11-22</td>\n",
       "      <td>DD to Hiscox Dd</td>\n",
       "      <td>0374551/0006464725</td>\n",
       "      <td>45.00</td>\n",
       "      <td>2145.25</td>\n",
       "    </tr>\n",
       "  </tbody>\n",
       "</table>\n",
       "</div>"
      ],
      "text/plain": [
       "    tranDate                                description                 ref  \\\n",
       "0 2017-11-28                        S/O to Hailey Smith                 NaN   \n",
       "1 2017-11-28                        S/O to Martin Smith                 NaN   \n",
       "2 2017-11-27                        R/P to Martin Smith                 NaN   \n",
       "3 2017-11-24  Giro: Just Retirement Mws Consulting Ltd                  NaN   \n",
       "4 2017-11-22                            DD to Hiscox Dd  0374551/0006464725   \n",
       "\n",
       "       amnt       bal  \n",
       "0    800.00  13917.16  \n",
       "1    812.00  14717.16  \n",
       "2    785.50  15529.16  \n",
       "3  14169.41  16314.66  \n",
       "4     45.00   2145.25  "
      ]
     },
     "execution_count": 5,
     "metadata": {},
     "output_type": "execute_result"
    }
   ],
   "source": [
    "#Examine the first few rows\n",
    "df.head()"
   ]
  },
  {
   "cell_type": "code",
   "execution_count": 6,
   "metadata": {},
   "outputs": [
    {
     "data": {
      "text/html": [
       "<div>\n",
       "<table border=\"1\" class=\"dataframe\">\n",
       "  <thead>\n",
       "    <tr style=\"text-align: right;\">\n",
       "      <th></th>\n",
       "      <th>amnt</th>\n",
       "      <th>bal</th>\n",
       "    </tr>\n",
       "  </thead>\n",
       "  <tbody>\n",
       "    <tr>\n",
       "      <th>count</th>\n",
       "      <td>167.000000</td>\n",
       "      <td>167.000000</td>\n",
       "    </tr>\n",
       "    <tr>\n",
       "      <th>mean</th>\n",
       "      <td>1763.645988</td>\n",
       "      <td>9514.446287</td>\n",
       "    </tr>\n",
       "    <tr>\n",
       "      <th>std</th>\n",
       "      <td>3297.692928</td>\n",
       "      <td>6708.327502</td>\n",
       "    </tr>\n",
       "    <tr>\n",
       "      <th>min</th>\n",
       "      <td>5.450000</td>\n",
       "      <td>-700.540000</td>\n",
       "    </tr>\n",
       "    <tr>\n",
       "      <th>25%</th>\n",
       "      <td>74.540000</td>\n",
       "      <td>3796.250000</td>\n",
       "    </tr>\n",
       "    <tr>\n",
       "      <th>50%</th>\n",
       "      <td>400.000000</td>\n",
       "      <td>8705.700000</td>\n",
       "    </tr>\n",
       "    <tr>\n",
       "      <th>75%</th>\n",
       "      <td>1125.000000</td>\n",
       "      <td>14934.430000</td>\n",
       "    </tr>\n",
       "    <tr>\n",
       "      <th>max</th>\n",
       "      <td>14813.470000</td>\n",
       "      <td>26382.410000</td>\n",
       "    </tr>\n",
       "  </tbody>\n",
       "</table>\n",
       "</div>"
      ],
      "text/plain": [
       "               amnt           bal\n",
       "count    167.000000    167.000000\n",
       "mean    1763.645988   9514.446287\n",
       "std     3297.692928   6708.327502\n",
       "min        5.450000   -700.540000\n",
       "25%       74.540000   3796.250000\n",
       "50%      400.000000   8705.700000\n",
       "75%     1125.000000  14934.430000\n",
       "max    14813.470000  26382.410000"
      ]
     },
     "execution_count": 6,
     "metadata": {},
     "output_type": "execute_result"
    }
   ],
   "source": [
    "df.describe()"
   ]
  },
  {
   "cell_type": "code",
   "execution_count": 7,
   "metadata": {},
   "outputs": [
    {
     "data": {
      "text/html": [
       "<div>\n",
       "<table border=\"1\" class=\"dataframe\">\n",
       "  <thead>\n",
       "    <tr style=\"text-align: right;\">\n",
       "      <th></th>\n",
       "      <th>tranDate</th>\n",
       "      <th>description</th>\n",
       "      <th>ref</th>\n",
       "      <th>amnt</th>\n",
       "      <th>bal</th>\n",
       "      <th>tranType</th>\n",
       "    </tr>\n",
       "  </thead>\n",
       "  <tbody>\n",
       "    <tr>\n",
       "      <th>0</th>\n",
       "      <td>2017-11-28</td>\n",
       "      <td>S/O to Hailey Smith</td>\n",
       "      <td>NaN</td>\n",
       "      <td>800.00</td>\n",
       "      <td>13917.16</td>\n",
       "      <td>S/O</td>\n",
       "    </tr>\n",
       "    <tr>\n",
       "      <th>1</th>\n",
       "      <td>2017-11-28</td>\n",
       "      <td>S/O to Martin Smith</td>\n",
       "      <td>NaN</td>\n",
       "      <td>812.00</td>\n",
       "      <td>14717.16</td>\n",
       "      <td>S/O</td>\n",
       "    </tr>\n",
       "    <tr>\n",
       "      <th>2</th>\n",
       "      <td>2017-11-27</td>\n",
       "      <td>R/P to Martin Smith</td>\n",
       "      <td>NaN</td>\n",
       "      <td>785.50</td>\n",
       "      <td>15529.16</td>\n",
       "      <td>R/P</td>\n",
       "    </tr>\n",
       "    <tr>\n",
       "      <th>3</th>\n",
       "      <td>2017-11-24</td>\n",
       "      <td>Giro: Just Retirement Mws Consulting Ltd</td>\n",
       "      <td>NaN</td>\n",
       "      <td>14169.41</td>\n",
       "      <td>16314.66</td>\n",
       "      <td>Giro:</td>\n",
       "    </tr>\n",
       "    <tr>\n",
       "      <th>4</th>\n",
       "      <td>2017-11-22</td>\n",
       "      <td>DD to Hiscox Dd</td>\n",
       "      <td>0374551/0006464725</td>\n",
       "      <td>45.00</td>\n",
       "      <td>2145.25</td>\n",
       "      <td>DD</td>\n",
       "    </tr>\n",
       "  </tbody>\n",
       "</table>\n",
       "</div>"
      ],
      "text/plain": [
       "    tranDate                                description                 ref  \\\n",
       "0 2017-11-28                        S/O to Hailey Smith                 NaN   \n",
       "1 2017-11-28                        S/O to Martin Smith                 NaN   \n",
       "2 2017-11-27                        R/P to Martin Smith                 NaN   \n",
       "3 2017-11-24  Giro: Just Retirement Mws Consulting Ltd                  NaN   \n",
       "4 2017-11-22                            DD to Hiscox Dd  0374551/0006464725   \n",
       "\n",
       "       amnt       bal tranType  \n",
       "0    800.00  13917.16      S/O  \n",
       "1    812.00  14717.16      S/O  \n",
       "2    785.50  15529.16      R/P  \n",
       "3  14169.41  16314.66    Giro:  \n",
       "4     45.00   2145.25       DD  "
      ]
     },
     "execution_count": 7,
     "metadata": {},
     "output_type": "execute_result"
    }
   ],
   "source": [
    "#Split off the transaction type from the beginning of the description\n",
    "df['tranType'] = df['description'].str.split(' ').str[0]\n",
    "df.head()"
   ]
  },
  {
   "cell_type": "code",
   "execution_count": 8,
   "metadata": {},
   "outputs": [
    {
     "data": {
      "text/plain": [
       "<matplotlib.axes._subplots.AxesSubplot at 0x7f690e5b30f0>"
      ]
     },
     "execution_count": 8,
     "metadata": {},
     "output_type": "execute_result"
    },
    {
     "data": {
      "image/png": "[encoded data removed]",
      "text/plain": [
       "<matplotlib.figure.Figure at 0x7f690e5b3b00>"
      ]
     },
     "metadata": {},
     "output_type": "display_data"
    }
   ],
   "source": [
    "balance = df['bal'].groupby(df['tranDate']).max()\n",
    "balance.plot()"
   ]
  },
  {
   "cell_type": "code",
   "execution_count": 9,
   "metadata": {},
   "outputs": [
    {
     "data": {
      "text/html": [
       "<div>\n",
       "<table border=\"1\" class=\"dataframe\">\n",
       "  <thead>\n",
       "    <tr style=\"text-align: right;\">\n",
       "      <th></th>\n",
       "      <th>tranDate</th>\n",
       "      <th>description</th>\n",
       "      <th>ref</th>\n",
       "      <th>amnt</th>\n",
       "      <th>bal</th>\n",
       "      <th>tranType</th>\n",
       "      <th>expensesize</th>\n",
       "    </tr>\n",
       "  </thead>\n",
       "  <tbody>\n",
       "    <tr>\n",
       "      <th>0</th>\n",
       "      <td>2017-11-28</td>\n",
       "      <td>S/O to Hailey Smith</td>\n",
       "      <td>NaN</td>\n",
       "      <td>800.00</td>\n",
       "      <td>13917.16</td>\n",
       "      <td>S/O</td>\n",
       "      <td>Medium</td>\n",
       "    </tr>\n",
       "    <tr>\n",
       "      <th>1</th>\n",
       "      <td>2017-11-28</td>\n",
       "      <td>S/O to Martin Smith</td>\n",
       "      <td>NaN</td>\n",
       "      <td>812.00</td>\n",
       "      <td>14717.16</td>\n",
       "      <td>S/O</td>\n",
       "      <td>Medium</td>\n",
       "    </tr>\n",
       "    <tr>\n",
       "      <th>2</th>\n",
       "      <td>2017-11-27</td>\n",
       "      <td>R/P to Martin Smith</td>\n",
       "      <td>NaN</td>\n",
       "      <td>785.50</td>\n",
       "      <td>15529.16</td>\n",
       "      <td>R/P</td>\n",
       "      <td>Medium</td>\n",
       "    </tr>\n",
       "    <tr>\n",
       "      <th>3</th>\n",
       "      <td>2017-11-24</td>\n",
       "      <td>Giro: Just Retirement Mws Consulting Ltd</td>\n",
       "      <td>NaN</td>\n",
       "      <td>14169.41</td>\n",
       "      <td>16314.66</td>\n",
       "      <td>Giro:</td>\n",
       "      <td>Large</td>\n",
       "    </tr>\n",
       "    <tr>\n",
       "      <th>4</th>\n",
       "      <td>2017-11-22</td>\n",
       "      <td>DD to Hiscox Dd</td>\n",
       "      <td>0374551/0006464725</td>\n",
       "      <td>45.00</td>\n",
       "      <td>2145.25</td>\n",
       "      <td>DD</td>\n",
       "      <td>Small</td>\n",
       "    </tr>\n",
       "  </tbody>\n",
       "</table>\n",
       "</div>"
      ],
      "text/plain": [
       "    tranDate                                description                 ref  \\\n",
       "0 2017-11-28                        S/O to Hailey Smith                 NaN   \n",
       "1 2017-11-28                        S/O to Martin Smith                 NaN   \n",
       "2 2017-11-27                        R/P to Martin Smith                 NaN   \n",
       "3 2017-11-24  Giro: Just Retirement Mws Consulting Ltd                  NaN   \n",
       "4 2017-11-22                            DD to Hiscox Dd  0374551/0006464725   \n",
       "\n",
       "       amnt       bal tranType expensesize  \n",
       "0    800.00  13917.16      S/O      Medium  \n",
       "1    812.00  14717.16      S/O      Medium  \n",
       "2    785.50  15529.16      R/P      Medium  \n",
       "3  14169.41  16314.66    Giro:       Large  \n",
       "4     45.00   2145.25       DD       Small  "
      ]
     },
     "execution_count": 9,
     "metadata": {},
     "output_type": "execute_result"
    }
   ],
   "source": [
    "#Group transaction amounts in to 3 bins Small, Medium and Large\n",
    "bins = [0, 100, 1000, 20000]\n",
    "labels = ['Small', 'Medium', 'Large']\n",
    "df['expensesize'] = pd.cut(df['amnt'], bins, labels=labels)\n",
    "df.head()"
   ]
  },
  {
   "cell_type": "code",
   "execution_count": 10,
   "metadata": {},
   "outputs": [
    {
     "data": {
      "text/plain": [
       "<matplotlib.axes._subplots.AxesSubplot at 0x7f690e4d66a0>"
      ]
     },
     "execution_count": 10,
     "metadata": {},
     "output_type": "execute_result"
    },
    {
     "data": {
      "image/png": "[encoded data removed]",
      "text/plain": [
       "<matplotlib.figure.Figure at 0x7f690e899a58>"
      ]
     },
     "metadata": {},
     "output_type": "display_data"
    }
   ],
   "source": [
    "#Group by and then display a pie chart of number of transactions per transaction group\n",
    "trans = df['amnt'].groupby(df['expensesize']).count()\n",
    "trans.plot(kind='pie')"
   ]
  },
  {
   "cell_type": "code",
   "execution_count": 11,
   "metadata": {},
   "outputs": [
    {
     "data": {
      "text/plain": [
       "<matplotlib.axes._subplots.AxesSubplot at 0x7f690bc775c0>"
      ]
     },
     "execution_count": 11,
     "metadata": {},
     "output_type": "execute_result"
    },
    {
     "data": {
      "image/png": "[encoded data removed]",
      "text/plain": [
       "<matplotlib.figure.Figure at 0x7f690bc95ba8>"
      ]
     },
     "metadata": {},
     "output_type": "display_data"
    }
   ],
   "source": [
    "#Group and sum amounts by month of transaction\n",
    "transAmntPerMonth = df.groupby(pd.Grouper(key='tranDate', freq='M'))['amnt'].sum()\n",
    "transAmntPerMonth.plot(kind='bar')"
   ]
  },
  {
   "cell_type": "code",
   "execution_count": null,
   "metadata": {},
   "outputs": [],
   "source": []
  }
 ],
 "metadata": {
  "kernelspec": {
   "display_name": "Python 3",
   "language": "python",
   "name": "python3"
  },
  "language_info": {
   "codemirror_mode": {
    "name": "ipython",
    "version": 3
   },
   "file_extension": ".py",
   "mimetype": "text/x-python",
   "name": "python",
   "nbconvert_exporter": "python",
   "pygments_lexer": "ipython3",
   "version": "3.6.3"
  }
 },
 "nbformat": 4,
 "nbformat_minor": 2
}
